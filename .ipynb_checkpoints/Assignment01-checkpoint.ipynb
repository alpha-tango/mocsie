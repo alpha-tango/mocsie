{
 "cells": [
  {
   "cell_type": "code",
   "execution_count": null,
   "id": "dd615447-8a8b-43d4-8084-b07e771cfa8f",
   "metadata": {},
   "outputs": [],
   "source": [
    "# needed libraries for all problems in the assignment\n",
    "# (I'm assuming we'll reuse them throughout problems)\n",
    "from pylab import *"
   ]
  },
  {
   "cell_type": "markdown",
   "id": "a1379ca8-2a1a-4306-b50e-788f3a4c32fc",
   "metadata": {},
   "source": [
    "# Problem 1"
   ]
  },
  {
   "cell_type": "code",
   "execution_count": null,
   "id": "39b421fc-d627-410e-8a5b-8eb82cd2b54f",
   "metadata": {},
   "outputs": [],
   "source": [
    "# Starting from Sayama code 4.11 - 4.15"
   ]
  },
  {
   "cell_type": "code",
   "execution_count": null,
   "id": "8c1778cd-a6f3-49ff-a01c-062c36e50649",
   "metadata": {},
   "outputs": [],
   "source": [
    "# initialize\n",
    "\n",
    "x = 1\n",
    "y = 1\n",
    "xresult = [x]\n",
    "yresult = [y]"
   ]
  },
  {
   "cell_type": "code",
   "execution_count": null,
   "id": "c7ba305a-20a0-4a7d-b7d0-1857e3c74760",
   "metadata": {},
   "outputs": [],
   "source": [
    "# observe\n",
    "\n",
    "def observe(x:int, y:int, xhist:list, yhist:list):\n",
    "    # Save current round states by adding\n",
    "    # the current x and y to our arrays of previous x's and y's.\n",
    "    # Then return our histories as a tuple. \n",
    "    # (Since I don't like global variables,\n",
    "    # we're going to have to keep returning them.)\n",
    "    xhist.append(x)\n",
    "    yhist.append(y)\n",
    "    return (xhist, yhist)"
   ]
  },
  {
   "cell_type": "code",
   "execution_count": null,
   "id": "a599e7ec-203f-4891-819a-96b2631a7f2f",
   "metadata": {},
   "outputs": [],
   "source": [
    "# update\n",
    "\n",
    "def simultaneous_update(x:int: y:int):\n",
    "    # run our update functions and return the updated versions\n",
    "    next_x = 0\n",
    "    next_y = 0\n",
    "    return (next_x, next_y)\n",
    "    "
   ]
  },
  {
   "cell_type": "code",
   "execution_count": null,
   "id": "2c277481-51bb-45df-b605-f9975367122e",
   "metadata": {},
   "outputs": [],
   "source": [
    "# run / simulate\n",
    "\n"
   ]
  },
  {
   "cell_type": "code",
   "execution_count": null,
   "id": "73dca171-83da-48b0-bd5d-cca87f182841",
   "metadata": {},
   "outputs": [],
   "source": [
    "# plot phase space"
   ]
  }
 ],
 "metadata": {
  "kernelspec": {
   "display_name": "Python 3 (ipykernel)",
   "language": "python",
   "name": "python3"
  },
  "language_info": {
   "codemirror_mode": {
    "name": "ipython",
    "version": 3
   },
   "file_extension": ".py",
   "mimetype": "text/x-python",
   "name": "python",
   "nbconvert_exporter": "python",
   "pygments_lexer": "ipython3",
   "version": "3.9.1"
  }
 },
 "nbformat": 4,
 "nbformat_minor": 5
}
